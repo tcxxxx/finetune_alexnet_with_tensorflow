{
 "cells": [
  {
   "cell_type": "code",
   "execution_count": 1,
   "metadata": {},
   "outputs": [
    {
     "name": "stderr",
     "output_type": "stream",
     "text": [
      "/home/xutiancheng/anaconda2/envs/ipykernel_py35/lib/python3.5/site-packages/h5py/__init__.py:36: FutureWarning: Conversion of the second argument of issubdtype from `float` to `np.floating` is deprecated. In future, it will be treated as `np.float64 == np.dtype(float).type`.\n",
      "  from ._conv import register_converters as _register_converters\n"
     ]
    }
   ],
   "source": [
    "import tensorflow as tf\n",
    "import tflearn as tfl\n",
    "\n",
    "import os\n",
    "\n",
    "from tflearn.layers.core import input_data, dropout, fully_connected\n",
    "from tflearn.layers.conv import conv_2d, max_pool_2d\n",
    "from tflearn.layers.normalization import local_response_normalization\n",
    "from tflearn.layers.estimator import regression\n",
    "\n",
    "CLASS_NUM = 2\n",
    "DROPOUT = 0.5\n",
    "\n",
    "PATCH_SIZE = 500\n",
    "\n",
    "CHANNEL = 3\n",
    "\n",
    "PIXEL_BLACK=0\n",
    "PIXEL_WHITE=255\n",
    "\n",
    "os.environ[\"CUDA_VISIBLE_DEVICES\"] = \"1\""
   ]
  },
  {
   "cell_type": "code",
   "execution_count": 2,
   "metadata": {
    "collapsed": true
   },
   "outputs": [],
   "source": [
    "def alexnet():\n",
    "    \n",
    "    # Building 'AlexNet'\n",
    "    network = input_data(shape=[None, 227, 227, 3])\n",
    "    \n",
    "    network = conv_2d(network, 96, 11, strides=4, activation='relu')\n",
    "    network = max_pool_2d(network, 3, strides=2)\n",
    "    network = local_response_normalization(network)\n",
    "    \n",
    "    network = conv_2d(network, 256, 5, activation='relu')\n",
    "    network = max_pool_2d(network, 3, strides=2)\n",
    "    network = local_response_normalization(network)\n",
    "    \n",
    "    network = conv_2d(network, 384, 3, activation='relu')\n",
    "    network = conv_2d(network, 384, 3, activation='relu')\n",
    "    network = conv_2d(network, 256, 3, activation='relu')\n",
    "    network = max_pool_2d(network, 3, strides=2)\n",
    "    network = local_response_normalization(network)\n",
    "    \n",
    "    network = fully_connected(network, 4096, activation='tanh')\n",
    "    network = dropout(network, 0.5)\n",
    "    network = fully_connected(network, 4096, activation='tanh')\n",
    "    network = dropout(network, 0.5)\n",
    "    network = fully_connected(network, 2, activation='softmax')\n",
    "    \n",
    "    network = regression(network, optimizer='momentum',\n",
    "                         loss='categorical_crossentropy',\n",
    "                         learning_rate=0.001)\n",
    "    \n",
    "    model = tfl.DNN(network, checkpoint_path='.',\n",
    "                    max_checkpoints=0, tensorboard_verbose=3,\n",
    "                    tensorboard_dir='/tmp/finetune_alexnet/tensorboard/')\n",
    "     \n",
    "    return network, model"
   ]
  },
  {
   "cell_type": "code",
   "execution_count": 3,
   "metadata": {},
   "outputs": [],
   "source": [
    "train_file = '../0506samples.txt'\n",
    "val_file = '../0506samplesval.txt'\n",
    "\n",
    "assert(os.path.isfile(train_file))\n",
    "assert(os.path.isfile(val_file))"
   ]
  },
  {
   "cell_type": "code",
   "execution_count": 4,
   "metadata": {},
   "outputs": [],
   "source": [
    "with open(train_file, \"r\") as fp:\n",
    "    datasets_=fp.readlines()\n",
    "\n",
    "datasets_ = [i.split('\\n')[0] for i in datasets_]\n",
    "datasets_\n",
    "\n",
    "X = [i.split(' ')[0] for i in datasets_]\n",
    "Y = [int(i.split(' ')[1]) for i in datasets_]"
   ]
  },
  {
   "cell_type": "code",
   "execution_count": null,
   "metadata": {},
   "outputs": [],
   "source": []
  },
  {
   "cell_type": "code",
   "execution_count": 5,
   "metadata": {
    "collapsed": true
   },
   "outputs": [],
   "source": [
    "X_0 = tfl.data_utils.ImagePreloader(X, image_shape=(227, 227), \\\n",
    "                                    normalize=True, grayscale=False)\n",
    "Y_0 = tfl.data_utils.LabelPreloader(Y, n_class=2, categorical_label=True)"
   ]
  },
  {
   "cell_type": "code",
   "execution_count": 6,
   "metadata": {},
   "outputs": [
    {
     "data": {
      "text/plain": [
       "(10000, 10000)"
      ]
     },
     "execution_count": 6,
     "metadata": {},
     "output_type": "execute_result"
    }
   ],
   "source": [
    "len(X_0), len(Y_0)"
   ]
  },
  {
   "cell_type": "code",
   "execution_count": null,
   "metadata": {},
   "outputs": [
    {
     "name": "stdout",
     "output_type": "stream",
     "text": [
      "WARNING:tensorflow:From /home/xutiancheng/anaconda2/envs/ipykernel_py35/lib/python3.5/site-packages/tflearn/initializations.py:119: UniformUnitScaling.__init__ (from tensorflow.python.ops.init_ops) is deprecated and will be removed in a future version.\n",
      "Instructions for updating:\n",
      "Use tf.initializers.variance_scaling instead with distribution=uniform to get equivalent behavior.\n"
     ]
    }
   ],
   "source": [
    "tf.reset_default_graph()\n",
    "network, model = alexnet()"
   ]
  },
  {
   "cell_type": "code",
   "execution_count": null,
   "metadata": {},
   "outputs": [],
   "source": []
  },
  {
   "cell_type": "code",
   "execution_count": null,
   "metadata": {},
   "outputs": [
    {
     "name": "stdout",
     "output_type": "stream",
     "text": [
      "Training Step: 970  | total loss: \u001b[1m\u001b[32m0.39038\u001b[0m\u001b[0m | time: 81.960s\n",
      "\u001b[2K\r",
      "| Momentum | epoch: 004 | loss: 0.39038 - acc: 0.8340 -- iter: 00992/10000\n"
     ]
    }
   ],
   "source": [
    "tfl.init_graph(seed=42, log_device=True, \\\n",
    "               gpu_memory_fraction=0.8)\n",
    "\n",
    "model.fit(X_0, Y_0, n_epoch=10, shuffle=True, \\\n",
    "          validation_set=None, show_metric=True, \\\n",
    "          batch_size=32, run_id='tflearn_comp1')\n"
   ]
  },
  {
   "cell_type": "code",
   "execution_count": null,
   "metadata": {
    "collapsed": true
   },
   "outputs": [],
   "source": []
  }
 ],
 "metadata": {
  "kernelspec": {
   "display_name": "ipykernel_py35",
   "language": "python",
   "name": "ipykernel_py35"
  },
  "language_info": {
   "codemirror_mode": {
    "name": "ipython",
    "version": 3
   },
   "file_extension": ".py",
   "mimetype": "text/x-python",
   "name": "python",
   "nbconvert_exporter": "python",
   "pygments_lexer": "ipython3",
   "version": "3.5.4"
  }
 },
 "nbformat": 4,
 "nbformat_minor": 2
}
